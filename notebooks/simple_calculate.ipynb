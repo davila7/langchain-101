{
 "cells": [
  {
   "cell_type": "markdown",
   "metadata": {},
   "source": [
    "Calculos simples"
   ]
  },
  {
   "cell_type": "code",
   "execution_count": 3,
   "metadata": {},
   "outputs": [
    {
     "data": {
      "text/plain": [
       "19.35735875876448"
      ]
     },
     "execution_count": 3,
     "metadata": {},
     "output_type": "execute_result"
    }
   ],
   "source": [
    "result = 4.1**2.1\n",
    "result"
   ]
  },
  {
   "cell_type": "code",
   "execution_count": 4,
   "metadata": {},
   "outputs": [
    {
     "name": "stdout",
     "output_type": "stream",
     "text": [
      "Collecting judini\n",
      "  Using cached judini-0.0.8-py3-none-any.whl (3.4 kB)\n",
      "Installing collected packages: judini\n",
      "Successfully installed judini-0.0.8\n"
     ]
    }
   ],
   "source": [
    "pip install judini"
   ]
  },
  {
   "cell_type": "code",
   "execution_count": null,
   "metadata": {},
   "outputs": [],
   "source": [
    "from judini.agent import Agent\n",
    "\n",
    "def main():\n",
    "    # Replace with your actual API key and URL ID\n",
    "    api_key = \"your_api_key_here\"\n",
    "    agent_id = \"your_agent_id_here\"\n",
    "\n",
    "    # Initialize the Judini class\n",
    "    agent_instance = Agent(api_key, agent_id)\n",
    "\n",
    "    # Optional: update API key or URL ID if needed\n",
    "    agent_instance.set_api_key(\"new_api_key\")\n",
    "    agent_instance.set_agent_id(\"new_agent_id\")\n",
    "\n",
    "    # Create the prompt\n",
    "    prompt = \"Who is the President of the United States?\"\n",
    "\n",
    "    # Make a completion request\n",
    "    response = agent_instance.completion(prompt, stream=False)\n",
    "\n",
    "    # Handle the response as needed\n",
    "    print(response)\n",
    "\n",
    "if __name__ == \"__main__\":\n",
    "    main()"
   ]
  }
 ],
 "metadata": {
  "kernelspec": {
   "display_name": "Python 3",
   "language": "python",
   "name": "python3"
  },
  "language_info": {
   "codemirror_mode": {
    "name": "ipython",
    "version": 3
   },
   "file_extension": ".py",
   "mimetype": "text/x-python",
   "name": "python",
   "nbconvert_exporter": "python",
   "pygments_lexer": "ipython3",
   "version": "3.10.12"
  },
  "orig_nbformat": 4
 },
 "nbformat": 4,
 "nbformat_minor": 2
}
